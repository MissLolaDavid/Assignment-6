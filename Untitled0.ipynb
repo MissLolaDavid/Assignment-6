{
  "nbformat": 4,
  "nbformat_minor": 0,
  "metadata": {
    "colab": {
      "name": "Untitled0.ipynb",
      "provenance": [],
      "authorship_tag": "ABX9TyP3nAYh9Q4yj2wu2p69DC0T",
      "include_colab_link": true
    },
    "kernelspec": {
      "name": "python3",
      "display_name": "Python 3"
    },
    "language_info": {
      "name": "python"
    }
  },
  "cells": [
    {
      "cell_type": "markdown",
      "metadata": {
        "id": "view-in-github",
        "colab_type": "text"
      },
      "source": [
        "<a href=\"https://colab.research.google.com/github/MissLolaDavid/Assignment-6/blob/main/Untitled0.ipynb\" target=\"_parent\"><img src=\"https://colab.research.google.com/assets/colab-badge.svg\" alt=\"Open In Colab\"/></a>"
      ]
    },
    {
      "cell_type": "code",
      "metadata": {
        "colab": {
          "base_uri": "https://localhost:8080/"
        },
        "id": "HVgs04m-BzAO",
        "outputId": "3b7e27e3-eb63-422d-acb8-7bd50a704be2"
      },
      "source": [
        "pip install a-world-of-countries"
      ],
      "execution_count": null,
      "outputs": [
        {
          "output_type": "stream",
          "text": [
            "Collecting a-world-of-countries\n",
            "  Downloading https://files.pythonhosted.org/packages/04/23/d5f026252c8dcc6059d4aba7da393dd4699aec9990ba7cb569f928e8e18b/a_world_of_countries-1.0.0-py3-none-any.whl\n",
            "Collecting pydash\n",
            "\u001b[?25l  Downloading https://files.pythonhosted.org/packages/65/6a/0a71935893b3bdcfe5431687a73e747eeb9202e95c6b4df94d46c055ab13/pydash-5.0.0-py3-none-any.whl (84kB)\n",
            "\u001b[K     |████████████████████████████████| 92kB 6.5MB/s \n",
            "\u001b[?25hInstalling collected packages: pydash, a-world-of-countries\n",
            "Successfully installed a-world-of-countries-1.0.0 pydash-5.0.0\n"
          ],
          "name": "stdout"
        }
      ]
    },
    {
      "cell_type": "code",
      "metadata": {
        "colab": {
          "base_uri": "https://localhost:8080/"
        },
        "id": "8NnQuvLdCfax",
        "outputId": "b58b0479-63e0-4487-98a0-29220f7e98e3"
      },
      "source": [
        "import awoc\n",
        "# to check countries\n",
        "# regular expression to return country code.\n",
        "import re\n",
        "\n",
        "# Enter the credentials needed below\n",
        "FirstName = input(\"Enter your First Name: \")\n",
        "LastName = input(\"Enter your Last Name: \")\n",
        "Full_Names = (FirstName + \" \" + LastName)\n",
        "Gender = str.upper(input(\"Enter your Gender: \"))\n",
        "ID_number = input(\"Enter your School I.D Number: \")\n",
        "Address = input(\"Enter your Mailing Address: \")\n",
        "Region = str.upper(input(\"Enter your region 'A' for Africa or 'O' for other region: \"))\n",
        "Country = input(\"Enter your Country: \")\n",
        "City = input(\"Enter your City: \")\n",
        "Email = input(\"Enter your Email Address: \")\n",
        "Phone = input(\"Enter your phone number + area code: \")\n",
        "\n",
        "\n",
        "def test_average():\n",
        "    global Average\n",
        "\n",
        "    Quiz1 = float(input(\"Enter your Score for Quiz1: \"))\n",
        "    Quiz2 = float(input(\"Enter your Score for Quiz2: \"))\n",
        "    Quiz3 = float(input(\"Enter your Score for Quiz3: \"))\n",
        "    Test1 = float(input(\"Enter your Score for Test1: \"))\n",
        "    Test2 = float(input(\"Enter your Score for Test2: \"))\n",
        "    Average = (Quiz1 + Quiz2 + Quiz3 + Test1 + Test2) / 5\n",
        "\n",
        "    return Average\n",
        "\n",
        "# Initialize the AWOC class - create an object.\n",
        "my_world = awoc.AWOC()\n",
        "\n",
        "# List of countries in Africa\n",
        "countries = my_world.get_countries_list_of('Africa')\n",
        "# Get the exact country code of the country given as input.\n",
        "real_code = my_world.get_country_phone_code(Country)\n",
        "\n",
        "def phone_regex():\n",
        "    match = (re.search(r'\\+\\d{3}', Phone))\n",
        "    code = match.group()\n",
        "    return code[1:]\n",
        "\n",
        "\n",
        "# exclude the + sign\n",
        "\n",
        "# phone_regex()\n",
        "\n",
        "def participation():\n",
        "\n",
        "  global score\n",
        "\n",
        "  assignment = int(input(\"Enter HomeWork Programming Assignment completed from 0-10: \"))\n",
        "  zoom = int(input(\"Enter Zoom Calls participation and attendance from 0-3: \"))\n",
        "  activity = str.lower(input(\"Was the student active(Yes/No): \"))\n",
        "\n",
        "  assignmentScore = (assignment/10) * 100\n",
        "  zoomScore = ((zoom * 3)/9) * 100\n",
        "  if activity == \"yes\":\n",
        "    activityScore = 100 \n",
        "  elif activity == \"no\":\n",
        "    activityScore = 50\n",
        "\n",
        "  score = (assignmentScore + zoomScore + activityScore)/3\n",
        "  return score\n",
        "\n",
        "\n",
        "if Country in countries:\n",
        "    test_average()\n",
        "    participation()\n",
        "\n",
        "    if Gender == \"Male\" and Average >= 80 and score >= 75:\n",
        "        print(\"Your average score is \" + str(Average) + \" and your participation was \" , float(score))\n",
        "        print(\"You deserve a scholarship\")\n",
        "    elif Gender == \"Female\" and Average >= 76 and score >= 75:\n",
        "        print(\"Your average score is \" + str(Average) + \" and your participation was \" , float(score))\n",
        "        print(\"You deserve a scholarship\")\n",
        "    else:\n",
        "        print(\"Your average score is \" + str(Average) + \" and your participation was \" , float(score))\n",
        "        print(\"You are not eligible for a scholarship\")\n"
      ],
      "execution_count": 6,
      "outputs": [
        {
          "output_type": "stream",
          "text": [
            "Enter your First Name: lola\n",
            "Enter your Last Name: david\n",
            "Enter your Gender: female\n",
            "Enter your School I.D Number: 34534\n",
            "Enter your Mailing Address: 2525\n",
            "Enter your region 'A' for Africa or 'O' for other region: a\n",
            "Enter your Country: Kenya\n",
            "Enter your City: Nairobi\n",
            "Enter your Email Address: lolamuthoni@gmail.com\n",
            "Enter your phone number + area code: +254711890609\n",
            "Enter your Score for Quiz1: 22\n",
            "Enter your Score for Quiz2: 34\n",
            "Enter your Score for Quiz3: 10\n",
            "Enter your Score for Test1: 54\n",
            "Enter your Score for Test2: 43\n",
            "Enter HomeWork Programming Assignment completed from 0-10: 3\n",
            "Enter Zoom Calls participation and attendance from 0-3: 1\n",
            "Was the student active(Yes/No): no\n",
            "Your average score is 32.6 and your participation was  37.77777777777778\n",
            "You are not eligible for a scholarship\n"
          ],
          "name": "stdout"
        }
      ]
    },
    {
      "cell_type": "code",
      "metadata": {
        "colab": {
          "base_uri": "https://localhost:8080/"
        },
        "id": "f55a3Q-_l-oO",
        "outputId": "007ddcc1-d49d-4345-dfee-9aa0a4aecb1e"
      },
      "source": [
        "pip install a-world-of-countries\n"
      ],
      "execution_count": 4,
      "outputs": [
        {
          "output_type": "stream",
          "text": [
            "Collecting a-world-of-countries\n",
            "  Downloading https://files.pythonhosted.org/packages/04/23/d5f026252c8dcc6059d4aba7da393dd4699aec9990ba7cb569f928e8e18b/a_world_of_countries-1.0.0-py3-none-any.whl\n",
            "Collecting pydash\n",
            "\u001b[?25l  Downloading https://files.pythonhosted.org/packages/65/6a/0a71935893b3bdcfe5431687a73e747eeb9202e95c6b4df94d46c055ab13/pydash-5.0.0-py3-none-any.whl (84kB)\n",
            "\u001b[K     |████████████████████████████████| 92kB 4.0MB/s \n",
            "\u001b[?25hInstalling collected packages: pydash, a-world-of-countries\n",
            "Successfully installed a-world-of-countries-1.0.0 pydash-5.0.0\n"
          ],
          "name": "stdout"
        }
      ]
    },
    {
      "cell_type": "code",
      "metadata": {
        "colab": {
          "base_uri": "https://localhost:8080/"
        },
        "id": "-8ACxVLjREZ5",
        "outputId": "73945cfd-d352-4f57-b976-49c0ad79143d"
      },
      "source": [
        "assignment = int(input(\"Enter HomeWork Programming Assignment completed from 0-10: \"))\n",
        "zoom = int(input(\"Enter Zoom Calls participation and attendance from 0-3: \"))\n",
        "activity = str.lower(input(\"Was the student active(Yes/No): \"))\n",
        "\n",
        "assignmentScore = (assignment/10) * 100\n",
        "zoomScore = ((zoom * 3)/9) * 100\n",
        "if activity == \"yes\":\n",
        "  activityScore = 100 \n",
        "elif activity == \"no\":\n",
        "  activityScore = 50\n",
        "\n",
        "scoreAverage = (assignmentScore + zoomScore + activityScore)/3\n",
        "\n",
        "print(\"Your Average Score for this class is \" , scoreAverage)\n"
      ],
      "execution_count": null,
      "outputs": [
        {
          "output_type": "stream",
          "text": [
            "Enter HomeWork Programming Assignment completed from 0-10: 6\n",
            "Enter Zoom Calls participation and attendance from 0-3: 2\n",
            "Was the student active(Yes/No): yes\n",
            "Your Average Score for this class is  75.55555555555556\n"
          ],
          "name": "stdout"
        }
      ]
    },
    {
      "cell_type": "code",
      "metadata": {
        "colab": {
          "base_uri": "https://localhost:8080/"
        },
        "id": "3BUBCr9uHUPo",
        "outputId": "73945cfd-d352-4f57-b976-49c0ad79143d"
      },
      "source": [
        "assignment = int(input(\"Enter HomeWork Programming Assignment completed from 0-10: \"))\n",
        "zoom = int(input(\"Enter Zoom Calls participation and attendance from 0-3: \"))\n",
        "activity = str.lower(input(\"Was the student active(Yes/No): \"))\n",
        "\n",
        "assignmentScore = (assignment/10) * 100\n",
        "zoomScore = ((zoom * 3)/9) * 100\n",
        "if activity == \"yes\":\n",
        "  activityScore = 100 \n",
        "elif activity == \"no\":\n",
        "  activityScore = 50\n",
        "\n",
        "scoreAverage = (assignmentScore + zoomScore + activityScore)/3\n",
        "\n",
        "print(\"Your Average Score for this class is \" , scoreAverage)\n"
      ],
      "execution_count": null,
      "outputs": [
        {
          "output_type": "stream",
          "text": [
            "Enter HomeWork Programming Assignment completed from 0-10: 6\n",
            "Enter Zoom Calls participation and attendance from 0-3: 2\n",
            "Was the student active(Yes/No): yes\n",
            "Your Average Score for this class is  75.55555555555556\n"
          ],
          "name": "stdout"
        }
      ]
    }
  ]
}